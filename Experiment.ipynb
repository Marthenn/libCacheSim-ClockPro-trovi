{
 "cells": [
  {
   "cell_type": "markdown",
   "id": "e7a19df9-a30b-4f5b-9ddc-d9fad8d89f59",
   "metadata": {},
   "source": [
    "# ClockPro Implementation on libCacheSim\n",
    "This is a simple experiment running ClockPro implementation that was implemented based on some references:\n",
    "1. [The original paper by Jiang and Chen](https://www.usenix.org/legacy/event/usenix05/tech/general/full_papers/jiang/jiang.pdf)\n",
    "2. [Presentation slide of Xiaodong Zhang from Ohio State University](https://blog.yufeng.info/wp-content/uploads/2010/08/8-Clock-Pro.pdf)\n",
    "3. [PyClockPro by Sami Lehtinen](https://bitbucket.org/SamiLehtinen/pyclockpro/src/master/)"
   ]
  },
  {
   "cell_type": "code",
   "execution_count": null,
   "id": "68913d62-f8e4-4e1e-93d2-ff1fb701c164",
   "metadata": {
    "tags": []
   },
   "outputs": [],
   "source": [
    "cd scripts && bash install_dependency.sh && bash install_libcachesim.sh\n",
    "cd ../.."
   ]
  },
  {
   "cell_type": "markdown",
   "id": "41aa5b93-a1f8-427c-a994-0fced3641c36",
   "metadata": {},
   "source": [
    "# Build and Install libCacheSim"
   ]
  },
  {
   "cell_type": "markdown",
   "id": "81a5d39b-ec72-42f9-b656-998d3e2684dc",
   "metadata": {},
   "source": [
    "## Clock-Pro Guide\n",
    "For more detailed guide, you can read the [official guide](https://github.com/1a1a11a/libCacheSim/blob/develop/doc/quickstart_cachesim.md)\n",
    "\n",
    "The Clock-Pro implementation has two parameters:\n",
    "* init-ref (will the new pages be initially set as referenced or not)\n",
    "* init-ratio-cold (how much of the initial cache size will be allocated for cold pages)\n",
    "\n",
    "The size of the cache can be defined as:\n",
    "* Size (e.g. 1mb, 16mb, 8gb)\n",
    "* Fraction of the working set size (e.g. 0.001, 0.1, 0.2)\n",
    "* Number of object if the flag `--ignore-obj-size 1` is enabled (e.g. 1000, 16000)\n",
    "\n",
    ">Note that there is no space between the cache sizes, you can have space if you quote the cache sizes. You can provide single size or multiple sizes at once.\n",
    "\n",
    "The general format for running the Clock-Pro is as follow:\n",
    "```bash\n",
    "cachesim <trace path> <trace format> clockpro <cache size>\n",
    "cachesim <trace path> <trace format> clockpro <cache size> -e <parameter>\n",
    "```\n",
    ">The trace formats currently supported by libCacheSim are csv, txt, or binary files (see detailed explanation on the official guide)<br>\n",
    ">Examples of trace files are locaed in the `data` folder\n",
    "\n",
    "Examples of running the Clock-Pro:\n",
    "```bash\n",
    "cachesim data/trace.vscsi vscsi clockpro 0.001,0.01,0.1,0.2 -e init-ref=0,init-ratio-cold=1\n",
    "```"
   ]
  },
  {
   "cell_type": "markdown",
   "id": "f620791c-358e-42cb-a04c-c3e7bea26049",
   "metadata": {},
   "source": "## Experiment Examples"
  },
  {
   "cell_type": "code",
   "execution_count": null,
   "id": "c0efedca-1c69-44bb-9154-514e0a1c84ab",
   "metadata": {},
   "outputs": [],
   "source": "cachesim data/cloudPhysicsIO.vscsi vscsi clockpro 0.001"
  },
  {
   "cell_type": "code",
   "execution_count": null,
   "id": "054eb879-131f-4ea5-9337-a5517206b399",
   "metadata": {},
   "outputs": [],
   "source": "cachesim data/cloudPhysicsIO.vscsi vscsi clockpro 0.001,0.01,0.1,0.2"
  }
 ],
 "metadata": {
  "kernelspec": {
   "display_name": "Bash",
   "language": "bash",
   "name": "bash"
  },
  "language_info": {
   "codemirror_mode": "shell",
   "file_extension": ".sh",
   "mimetype": "text/x-sh",
   "name": "bash"
  }
 },
 "nbformat": 4,
 "nbformat_minor": 5
}
